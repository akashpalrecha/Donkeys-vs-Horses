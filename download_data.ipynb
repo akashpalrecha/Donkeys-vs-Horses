{
 "cells": [
  {
   "cell_type": "code",
   "execution_count": 2,
   "metadata": {},
   "outputs": [],
   "source": [
    "%matplotlib inline"
   ]
  },
  {
   "cell_type": "code",
   "execution_count": 6,
   "metadata": {},
   "outputs": [],
   "source": [
    "from fastai.vision import *\n",
    "from fastai import *"
   ]
  },
  {
   "cell_type": "code",
   "execution_count": 4,
   "metadata": {},
   "outputs": [],
   "source": [
    "folders = []\n",
    "urls = []\n",
    "\n",
    "folders.append('Donkey')\n",
    "urls.append('donkeys.csv')\n",
    "\n",
    "folders.append('Horse')\n",
    "urls.append('horses.csv')"
   ]
  },
  {
   "cell_type": "code",
   "execution_count": 16,
   "metadata": {},
   "outputs": [],
   "source": [
    "path = Path('data/')\n",
    "for folder in folders:\n",
    "    dest = path/folder\n",
    "    dest.mkdir(parents=True, exist_ok=True)"
   ]
  },
  {
   "cell_type": "code",
   "execution_count": 17,
   "metadata": {},
   "outputs": [
    {
     "data": {
      "text/plain": [
       "[PosixPath('data/Donkey'), PosixPath('data/Horse')]"
      ]
     },
     "execution_count": 17,
     "metadata": {},
     "output_type": "execute_result"
    }
   ],
   "source": [
    "path.ls()"
   ]
  },
  {
   "cell_type": "code",
   "execution_count": 15,
   "metadata": {},
   "outputs": [
    {
     "data": {
      "text/plain": [
       "(199, 299)"
      ]
     },
     "execution_count": 15,
     "metadata": {},
     "output_type": "execute_result"
    }
   ],
   "source": [
    "len(pd.read_csv(urls[0], delimiter='\\n')), len(pd.read_csv(urls[1], delimiter='\\n'))"
   ]
  },
  {
   "cell_type": "markdown",
   "metadata": {},
   "source": [
    "### Downloading images"
   ]
  },
  {
   "cell_type": "code",
   "execution_count": 18,
   "metadata": {},
   "outputs": [
    {
     "data": {
      "text/html": [
       "\n",
       "    <div>\n",
       "        <style>\n",
       "        \t/* Turns off some styling */\n",
       "        \tprogress {\n",
       "\n",
       "            \t/* gets rid of default border in Firefox and Opera. */\n",
       "            \tborder: none;\n",
       "\n",
       "            \t/* Needs to be in here for Safari polyfill so background images work as expected. */\n",
       "            \tbackground-size: auto;\n",
       "            }\n",
       "\n",
       "            .progress-bar-interrupted, .progress-bar-interrupted::-webkit-progress-bar {\n",
       "                background: #F44336;\n",
       "            }\n",
       "        </style>\n",
       "      <progress value='200' class='' max='200', style='width:300px; height:20px; vertical-align: middle;'></progress>\n",
       "      100.00% [200/200 00:42<00:00]\n",
       "    </div>\n",
       "    "
      ],
      "text/plain": [
       "<IPython.core.display.HTML object>"
      ]
     },
     "metadata": {},
     "output_type": "display_data"
    },
    {
     "name": "stdout",
     "output_type": "stream",
     "text": [
      "Error https://www.wideopenspaces.com/wp-content/uploads/2014/10/buck-coyote-cover.jpg HTTPSConnectionPool(host='www.wideopenspaces.com', port=443): Max retries exceeded with url: /wp-content/uploads/2014/10/buck-coyote-cover.jpg (Caused by SSLError(SSLError(\"bad handshake: Error([('SSL routines', 'ssl3_get_server_certificate', 'certificate verify failed')],)\",),))\n",
      "Error https://pixel.nymag.com/imgs/fashion/daily/2018/11/08/08-emu-donkey.w700.h700.jpg HTTPSConnectionPool(host='pixel.nymag.com', port=443): Max retries exceeded with url: /imgs/fashion/daily/2018/11/08/08-emu-donkey.w700.h700.jpg (Caused by SSLError(SSLError(\"bad handshake: SysCallError(-1, 'Unexpected EOF')\",),))\n",
      "Error https://media.giphy.com/media/eOMxw7j0s86Sk/giphy.gif HTTPSConnectionPool(host='media.giphy.com', port=443): Max retries exceeded with url: /media/eOMxw7j0s86Sk/giphy.gif (Caused by SSLError(SSLError(\"bad handshake: SysCallError(-1, 'Unexpected EOF')\",),))\n",
      "Error http://beta.ems.ladbiblegroup.com/s3/content/eac55fd75be0773a8d93d14b23b46684.png HTTPConnectionPool(host='beta.ems.ladbiblegroup.com', port=80): Read timed out. (read timeout=4)\n",
      "Error http://blog.babylonstoren.com/wp-content/uploads/2017/11/Baby-donkey-at-Babylonstoren_sml-6.jpg HTTPConnectionPool(host='blog.babylonstoren.com', port=80): Read timed out. (read timeout=4)\n",
      "Error https://gamepedia.cursecdn.com/zelda_gamepedia_en/thumb/a/ac/BotW_Donkey_Model.png/268px-BotW_Donkey_Model.png?version=be43be413150547b2e26f74668bfe8bd HTTPSConnectionPool(host='gamepedia.cursecdn.com', port=443): Max retries exceeded with url: /zelda_gamepedia_en/thumb/a/ac/BotW_Donkey_Model.png/268px-BotW_Donkey_Model.png?version=be43be413150547b2e26f74668bfe8bd (Caused by SSLError(SSLError(\"bad handshake: Error([('SSL routines', 'ssl3_get_server_certificate', 'certificate verify failed')],)\",),))\n",
      "Error http://www.impelledtoact.com/wp-content/uploads/2012/04/horse.jpg HTTPConnectionPool(host='www.impelledtoact.com', port=80): Read timed out. (read timeout=4)\n"
     ]
    },
    {
     "data": {
      "text/html": [
       "\n",
       "    <div>\n",
       "        <style>\n",
       "        \t/* Turns off some styling */\n",
       "        \tprogress {\n",
       "\n",
       "            \t/* gets rid of default border in Firefox and Opera. */\n",
       "            \tborder: none;\n",
       "\n",
       "            \t/* Needs to be in here for Safari polyfill so background images work as expected. */\n",
       "            \tbackground-size: auto;\n",
       "            }\n",
       "\n",
       "            .progress-bar-interrupted, .progress-bar-interrupted::-webkit-progress-bar {\n",
       "                background: #F44336;\n",
       "            }\n",
       "        </style>\n",
       "      <progress value='300' class='' max='300', style='width:300px; height:20px; vertical-align: middle;'></progress>\n",
       "      100.00% [300/300 01:10<00:00]\n",
       "    </div>\n",
       "    "
      ],
      "text/plain": [
       "<IPython.core.display.HTML object>"
      ]
     },
     "metadata": {},
     "output_type": "display_data"
    },
    {
     "name": "stdout",
     "output_type": "stream",
     "text": [
      "Error https://get.pxhere.com/photo/trail-country-recreation-rural-ranch-horseback-horse-lifestyle-activity-equestrian-equine-outdoors-riding-horses-horse-riding-sports-equestrianism-pack-animal-eventing-trail-riding-horse-like-mammal-animal-sports-equestrian-sport-endurance-riding-1206718.jpg HTTPSConnectionPool(host='get.pxhere.com', port=443): Max retries exceeded with url: /photo/trail-country-recreation-rural-ranch-horseback-horse-lifestyle-activity-equestrian-equine-outdoors-riding-horses-horse-riding-sports-equestrianism-pack-animal-eventing-trail-riding-horse-like-mammal-animal-sports-equestrian-sport-endurance-riding-1206718.jpg (Caused by SSLError(SSLError(\"bad handshake: SysCallError(-1, 'Unexpected EOF')\",),))\n",
      "Error https://get.pxhere.com/photo/landscape-nature-grass-fence-field-farm-meadow-prairie-countryside-country-summer-rural-spring-cattle-herd-scenic-pasture-grazing-ranch-horse-mammal-stallion-mane-fauna-plain-equine-horses-outside-netherlands-fields-grassland-mare-steppe-rural-area-horse-like-mammal-mustang-horse-1135571.jpg HTTPSConnectionPool(host='get.pxhere.com', port=443): Max retries exceeded with url: /photo/landscape-nature-grass-fence-field-farm-meadow-prairie-countryside-country-summer-rural-spring-cattle-herd-scenic-pasture-grazing-ranch-horse-mammal-stallion-mane-fauna-plain-equine-horses-outside-netherlands-fields-grassland-mare-steppe-rural-area-horse-like-mammal-mustang-horse-1135571.jpg (Caused by SSLError(SSLError(\"bad handshake: SysCallError(-1, 'Unexpected EOF')\",),))\n",
      "Error https://get.pxhere.com/photo/landscape-nature-outdoor-fence-field-farm-countryside-animal-country-environment-rural-farming-scenic-pasture-livestock-ranch-horse-mammal-stallion-mane-agriculture-tourism-farmland-agricultural-equestrian-equine-outdoors-horses-mare-scene-purebred-equestrianism-pack-animal-eventing-neighbors-horse-like-mammal-english-riding-910708.jpg HTTPSConnectionPool(host='get.pxhere.com', port=443): Max retries exceeded with url: /photo/landscape-nature-outdoor-fence-field-farm-countryside-animal-country-environment-rural-farming-scenic-pasture-livestock-ranch-horse-mammal-stallion-mane-agriculture-tourism-farmland-agricultural-equestrian-equine-outdoors-horses-mare-scene-purebred-equestrianism-pack-animal-eventing-neighbors-horse-like-mammal-english-riding-910708.jpg (Caused by SSLError(SSLError(\"bad handshake: SysCallError(-1, 'Unexpected EOF')\",),))\n",
      "Error https://get.pxhere.com/photo/animals-countryside-farm-field-horses-livestock-mare-rural-sheep-1523933.jpg HTTPSConnectionPool(host='get.pxhere.com', port=443): Max retries exceeded with url: /photo/animals-countryside-farm-field-horses-livestock-mare-rural-sheep-1523933.jpg (Caused by SSLError(SSLError(\"bad handshake: SysCallError(-1, 'Unexpected EOF')\",),))\n",
      "Error http://www.neboruralservices.com/uploads/5/1/0/2/51020009/header_images/1430261652.jpg HTTPConnectionPool(host='www.neboruralservices.com', port=80): Read timed out. (read timeout=4)\n",
      "Error https://nationalpostcom.files.wordpress.com/2018/12/cpt121-the-canadian-press.jpg?quality=80&strip=all&w=780 HTTPSConnectionPool(host='nationalpostcom.files.wordpress.com', port=443): Read timed out. (read timeout=4)\n",
      "Error https://i.colnect.net/f/3517/304/Horses.jpg ('Connection aborted.', RemoteDisconnected('Remote end closed connection without response',))\n",
      "Error https://get.pxhere.com/photo/animal-photography-animals-farm-forest-horses-landscape-livestock-mammals-mare-outdoors-pasture-rural-trees-woods-horse-tree-horse-like-mammal-rural-area-pack-animal-grass-grazing-ranch-mustang-horse-wildlife-1419004.jpg HTTPSConnectionPool(host='get.pxhere.com', port=443): Max retries exceeded with url: /photo/animal-photography-animals-farm-forest-horses-landscape-livestock-mammals-mare-outdoors-pasture-rural-trees-woods-horse-tree-horse-like-mammal-rural-area-pack-animal-grass-grazing-ranch-mustang-horse-wildlife-1419004.jpg (Caused by SSLError(SSLError(\"bad handshake: SysCallError(-1, 'Unexpected EOF')\",),))\n",
      "Error https://www.washingtonruralheritage.org/digital/download/collection/prosser/id/86/size/full HTTPSConnectionPool(host='www.washingtonruralheritage.org', port=443): Max retries exceeded with url: /digital/download/collection/prosser/id/86/size/full (Caused by SSLError(SSLError(\"bad handshake: Error([('SSL routines', 'ssl3_get_server_certificate', 'certificate verify failed')],)\",),))\n",
      "Error https://get.pxhere.com/photo/landscape-nature-grass-field-prairie-countryside-cute-country-wild-herd-pasture-grazing-ranch-horse-mammal-mane-ride-equestrian-equine-outdoors-riding-horses-farms-fields-pony-grassland-animals-little-mare-ponies-steppe-rural-area-meadows-hooves-natural-environment-cattle-like-mammal-horse-like-mammal-mustang-horse-655356.jpg HTTPSConnectionPool(host='get.pxhere.com', port=443): Max retries exceeded with url: /photo/landscape-nature-grass-field-prairie-countryside-cute-country-wild-herd-pasture-grazing-ranch-horse-mammal-mane-ride-equestrian-equine-outdoors-riding-horses-farms-fields-pony-grassland-animals-little-mare-ponies-steppe-rural-area-meadows-hooves-natural-environment-cattle-like-mammal-horse-like-mammal-mustang-horse-655356.jpg (Caused by SSLError(SSLError(\"bad handshake: SysCallError(-1, 'Unexpected EOF')\",),))\n",
      "Error https://i.prcdn.co/img?regionKey=BExj6Fhgqwn%2BfEk04L65Dg%3D%3D&scale=100 HTTPSConnectionPool(host='i.prcdn.co', port=443): Read timed out. (read timeout=4)\n",
      "Error https://get.pxhere.com/photo/nature-farm-animal-rural-horse-mammal-stallion-mane-friendship-together-equestrian-equine-horses-friends-happy-mare-foal-chestnut-pack-animal-horse-like-mammal-1268898.jpg HTTPSConnectionPool(host='get.pxhere.com', port=443): Max retries exceeded with url: /photo/nature-farm-animal-rural-horse-mammal-stallion-mane-friendship-together-equestrian-equine-horses-friends-happy-mare-foal-chestnut-pack-animal-horse-like-mammal-1268898.jpg (Caused by SSLError(SSLError(\"bad handshake: SysCallError(-1, 'Unexpected EOF')\",),))\n",
      "Error https://img.hipcamp.com/image/upload/c_fill,f_auto,h_299,q_60,w_299/v1521668186/campground-photos/lnzdb0kyu2dgincsktwk.jpg HTTPSConnectionPool(host='img.hipcamp.com', port=443): Max retries exceeded with url: /image/upload/c_fill,f_auto,h_299,q_60,w_299/v1521668186/campground-photos/lnzdb0kyu2dgincsktwk.jpg (Caused by SSLError(SSLError(\"bad handshake: SysCallError(-1, 'Unexpected EOF')\",),))\n",
      "Error https://i.prcdn.co/img?regionKey=KDnSp6z3ITHkUTOikZAxyg%3D%3D&scale=100 HTTPSConnectionPool(host='i.prcdn.co', port=443): Read timed out. (read timeout=4)\n"
     ]
    }
   ],
   "source": [
    "for url_csv, folder in zip(urls, folders):\n",
    "    download_images(url_csv, path/folder)"
   ]
  },
  {
   "cell_type": "code",
   "execution_count": null,
   "metadata": {},
   "outputs": [],
   "source": []
  }
 ],
 "metadata": {
  "kernelspec": {
   "display_name": "Python 3",
   "language": "python",
   "name": "python3"
  },
  "language_info": {
   "codemirror_mode": {
    "name": "ipython",
    "version": 3
   },
   "file_extension": ".py",
   "mimetype": "text/x-python",
   "name": "python",
   "nbconvert_exporter": "python",
   "pygments_lexer": "ipython3",
   "version": "3.6.6"
  },
  "toc": {
   "base_numbering": 1,
   "nav_menu": {},
   "number_sections": true,
   "sideBar": true,
   "skip_h1_title": false,
   "title_cell": "Table of Contents",
   "title_sidebar": "Contents",
   "toc_cell": false,
   "toc_position": {},
   "toc_section_display": true,
   "toc_window_display": false
  },
  "varInspector": {
   "cols": {
    "lenName": 16,
    "lenType": 16,
    "lenVar": 40
   },
   "kernels_config": {
    "python": {
     "delete_cmd_postfix": "",
     "delete_cmd_prefix": "del ",
     "library": "var_list.py",
     "varRefreshCmd": "print(var_dic_list())"
    },
    "r": {
     "delete_cmd_postfix": ") ",
     "delete_cmd_prefix": "rm(",
     "library": "var_list.r",
     "varRefreshCmd": "cat(var_dic_list()) "
    }
   },
   "types_to_exclude": [
    "module",
    "function",
    "builtin_function_or_method",
    "instance",
    "_Feature"
   ],
   "window_display": false
  }
 },
 "nbformat": 4,
 "nbformat_minor": 2
}
